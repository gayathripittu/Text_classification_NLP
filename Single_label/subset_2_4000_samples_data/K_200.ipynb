{
 "cells": [
  {
   "cell_type": "code",
   "execution_count": 1,
   "id": "f39124ad",
   "metadata": {},
   "outputs": [],
   "source": [
    "import pandas as pd\n",
    "import numpy as np\n",
    "import string\n",
    "import re\n",
    "import random\n",
    "import numpy as np\n",
    "import tensorflow as tf\n",
    "import nltk\n",
    "from nltk.corpus import stopwords\n",
    "from nltk.tokenize import word_tokenize\n",
    "from nltk.stem import WordNetLemmatizer\n",
    "\n",
    "from sklearn.feature_extraction.text import TfidfVectorizer,CountVectorizer,TfidfTransformer\n"
   ]
  },
  {
   "cell_type": "code",
   "execution_count": 2,
   "id": "7e6fdb8a",
   "metadata": {},
   "outputs": [],
   "source": [
    "df=pd.read_csv(r\"D:\\Capstone\\Datasets\\Data_preparation\\preprocessed\\Preprocessed_4000_samples.csv\")\n"
   ]
  },
  {
   "cell_type": "code",
   "execution_count": 3,
   "id": "d3a07c67",
   "metadata": {},
   "outputs": [],
   "source": [
    "import ast\n",
    "\n",
    "df['text_lemmatized'] = df['text_lemmatized'].apply(ast.literal_eval)\n",
    "\n",
    "# Now you can proceed with concatenating the lists into sentences\n",
    "df['sentences'] = df['text_lemmatized'].apply(lambda x: ' '.join(x))\n",
    "\n"
   ]
  },
  {
   "cell_type": "code",
   "execution_count": 4,
   "id": "31629b15",
   "metadata": {},
   "outputs": [
    {
     "data": {
      "text/plain": [
       "(4072, 31073)"
      ]
     },
     "execution_count": 4,
     "metadata": {},
     "output_type": "execute_result"
    }
   ],
   "source": [
    "from sklearn.feature_extraction.text import CountVectorizer\n",
    "\n",
    "# Count Vectorizer\n",
    "vect = CountVectorizer()  \n",
    "vects = vect.fit_transform(df.sentences)\n",
    "vects.shape"
   ]
  },
  {
   "cell_type": "code",
   "execution_count": 5,
   "id": "7a2c3cc8",
   "metadata": {},
   "outputs": [
    {
     "name": "stdout",
     "output_type": "stream",
     "text": [
      "(31073, 4072)\n"
     ]
    }
   ],
   "source": [
    "tdm = vects.T\n",
    "\n",
    "term_document_matrix = pd.DataFrame.sparse.from_spmatrix(tdm, index=vect.get_feature_names_out(), columns=df['docid'].astype(str))\n",
    "\n",
    "print(term_document_matrix.shape)"
   ]
  },
  {
   "cell_type": "markdown",
   "id": "3459ca12",
   "metadata": {},
   "source": [
    "## Max Normalization"
   ]
  },
  {
   "cell_type": "code",
   "execution_count": 6,
   "id": "ece229e6",
   "metadata": {},
   "outputs": [],
   "source": [
    "import numpy as np\n",
    "\n",
    "max_values = term_document_matrix.max(axis=0)\n",
    "normalized_term_document_matrix =np.divide(term_document_matrix, max_values)\n",
    "normalized_term_document_matrix=normalized_term_document_matrix.values\n"
   ]
  },
  {
   "cell_type": "markdown",
   "id": "f16064a2",
   "metadata": {},
   "source": [
    "## TruncatedSVD"
   ]
  },
  {
   "cell_type": "code",
   "execution_count": 7,
   "id": "0df98c7d",
   "metadata": {},
   "outputs": [
    {
     "name": "stdout",
     "output_type": "stream",
     "text": [
      "Inverse of S:\n",
      "[[0.01605977 0.         0.         ... 0.         0.         0.        ]\n",
      " [0.         0.038631   0.         ... 0.         0.         0.        ]\n",
      " [0.         0.         0.0407791  ... 0.         0.         0.        ]\n",
      " ...\n",
      " [0.         0.         0.         ... 0.20090246 0.         0.        ]\n",
      " [0.         0.         0.         ... 0.         0.20144884 0.        ]\n",
      " [0.         0.         0.         ... 0.         0.         0.20252178]]\n"
     ]
    }
   ],
   "source": [
    "from sklearn.decomposition import TruncatedSVD\n",
    "import numpy as np\n",
    "\n",
    "k = 200 \n",
    "svd = TruncatedSVD(n_components=k)\n",
    "\n",
    "U = svd.fit_transform(normalized_term_document_matrix)\n",
    "S = np.diag(svd.singular_values_)  \n",
    "VT = svd.components_\n",
    "\n",
    "\n",
    "S_inv = np.linalg.inv(S)\n",
    "\n",
    "print(\"Inverse of S:\")\n",
    "print(S_inv)"
   ]
  },
  {
   "cell_type": "code",
   "execution_count": 8,
   "id": "27e4a682",
   "metadata": {},
   "outputs": [
    {
     "name": "stdout",
     "output_type": "stream",
     "text": [
      "Xq_prime shape:  (4072, 31073)\n",
      "U shape:  (31073, 200)\n",
      "S_inv shape:  (200, 200)\n"
     ]
    }
   ],
   "source": [
    "Xq_prime = normalized_term_document_matrix.T\n",
    "\n",
    "print(\"Xq_prime shape: \",Xq_prime.shape)\n",
    "print(\"U shape: \",U.shape)\n",
    "print(\"S_inv shape: \",S_inv.shape)\n"
   ]
  },
  {
   "cell_type": "code",
   "execution_count": 9,
   "id": "491dd3b9",
   "metadata": {},
   "outputs": [
    {
     "data": {
      "text/plain": [
       "(4072, 200)"
      ]
     },
     "execution_count": 9,
     "metadata": {},
     "output_type": "execute_result"
    }
   ],
   "source": [
    "Dq = Xq_prime.dot(U).dot(S_inv)\n",
    "Dq.shape"
   ]
  },
  {
   "cell_type": "code",
   "execution_count": 10,
   "id": "0fb4555e",
   "metadata": {},
   "outputs": [
    {
     "data": {
      "text/plain": [
       "10"
      ]
     },
     "execution_count": 10,
     "metadata": {},
     "output_type": "execute_result"
    }
   ],
   "source": [
    "a=list(df['encoded_topics'].unique())\n",
    "len(a)"
   ]
  },
  {
   "cell_type": "code",
   "execution_count": 11,
   "id": "8cd78dc1",
   "metadata": {},
   "outputs": [
    {
     "data": {
      "text/plain": [
       "array([0, 1, 2, 3, 4, 5, 6, 7, 8, 9], dtype=int64)"
      ]
     },
     "execution_count": 11,
     "metadata": {},
     "output_type": "execute_result"
    }
   ],
   "source": [
    "class_mapping = {old_label: new_label for new_label, old_label in enumerate(df['encoded_topics'].unique())}\n",
    "df['encoded_topics'] = df['encoded_topics'].map(class_mapping)\n",
    "df['encoded_topics'].unique()"
   ]
  },
  {
   "cell_type": "code",
   "execution_count": 12,
   "id": "952fdb95",
   "metadata": {},
   "outputs": [
    {
     "name": "stdout",
     "output_type": "stream",
     "text": [
      "Old Class Categories:\n",
      "Encoded Label 0: Original Label 0\n",
      "Encoded Label 1: Original Label 55\n",
      "Encoded Label 2: Original Label 4\n",
      "Encoded Label 3: Original Label 27\n",
      "Encoded Label 4: Original Label 6\n",
      "Encoded Label 5: Original Label 13\n",
      "Encoded Label 6: Original Label 20\n",
      "Encoded Label 7: Original Label 41\n",
      "Encoded Label 8: Original Label 69\n",
      "Encoded Label 9: Original Label 52\n"
     ]
    }
   ],
   "source": [
    "reverse_class_mapping = {v: k for k, v in class_mapping.items()}\n",
    "print(\"Old Class Categories:\")\n",
    "for encoded_label, old_label in reverse_class_mapping.items():\n",
    "    print(f\"Encoded Label {encoded_label}: Original Label {old_label}\")\n"
   ]
  },
  {
   "cell_type": "markdown",
   "id": "19cf1676",
   "metadata": {},
   "source": [
    "## Model"
   ]
  },
  {
   "cell_type": "markdown",
   "id": "13e38b36",
   "metadata": {},
   "source": [
    "## Cross Validation"
   ]
  },
  {
   "cell_type": "code",
   "execution_count": 13,
   "id": "a5fc0ef4",
   "metadata": {},
   "outputs": [
    {
     "name": "stdout",
     "output_type": "stream",
     "text": [
      "Fold 1/10\n",
      "13/13 [==============================] - 0s 1ms/step - loss: 0.6344 - accuracy: 0.7941\n",
      "Test accuracy for fold 1: 79.41%\n",
      "Fold 2/10\n",
      "13/13 [==============================] - 0s 1ms/step - loss: 0.6206 - accuracy: 0.7843\n",
      "Test accuracy for fold 2: 78.43%\n",
      "Fold 3/10\n",
      "13/13 [==============================] - 0s 2ms/step - loss: 0.6760 - accuracy: 0.7789\n",
      "Test accuracy for fold 3: 77.89%\n",
      "Fold 4/10\n",
      "13/13 [==============================] - 0s 1ms/step - loss: 0.5921 - accuracy: 0.8034\n",
      "Test accuracy for fold 4: 80.34%\n",
      "Fold 5/10\n",
      "13/13 [==============================] - 0s 3ms/step - loss: 0.6221 - accuracy: 0.7936\n",
      "Test accuracy for fold 5: 79.36%\n",
      "Fold 6/10\n",
      "13/13 [==============================] - 0s 1ms/step - loss: 0.5654 - accuracy: 0.8182\n",
      "Test accuracy for fold 6: 81.82%\n",
      "Fold 7/10\n",
      "13/13 [==============================] - 0s 1ms/step - loss: 0.5507 - accuracy: 0.8206\n",
      "Test accuracy for fold 7: 82.06%\n",
      "Fold 8/10\n",
      "13/13 [==============================] - 0s 1ms/step - loss: 0.6369 - accuracy: 0.7936\n",
      "Test accuracy for fold 8: 79.36%\n",
      "Fold 9/10\n",
      "13/13 [==============================] - 0s 709us/step - loss: 0.5850 - accuracy: 0.7813\n",
      "Test accuracy for fold 9: 78.13%\n",
      "Fold 10/10\n",
      "13/13 [==============================] - 0s 3ms/step - loss: 0.5536 - accuracy: 0.8157\n",
      "Test accuracy for fold 10: 81.57%\n",
      "Average test accuracy: 79.84%\n"
     ]
    }
   ],
   "source": [
    "from sklearn.model_selection import train_test_split\n",
    "from tensorflow.keras.models import Sequential\n",
    "from tensorflow.keras.layers import Dense, Dropout\n",
    "from tensorflow.keras.utils import to_categorical\n",
    "from tensorflow.keras.callbacks import EarlyStopping\n",
    "from sklearn.model_selection import StratifiedKFold\n",
    "\n",
    "num_folds = 10\n",
    "\n",
    "# Initialize cross-validation\n",
    "skf = StratifiedKFold(n_splits=num_folds, shuffle=True, random_state=42)\n",
    "\n",
    "# Initialize variables to store test accuracies\n",
    "test_accuracies = []\n",
    "\n",
    "# Iterate over each fold\n",
    "for fold, (train_index, test_index) in enumerate(skf.split(Dq, df['encoded_topics'])):\n",
    "    print(f'Fold {fold + 1}/{num_folds}')\n",
    "\n",
    "    # Split data into train and test sets for this fold\n",
    "    X_train, X_test = Dq[train_index], Dq[test_index]\n",
    "    y_train, y_test = df['encoded_topics'].iloc[train_index], df['encoded_topics'].iloc[test_index]\n",
    "\n",
    "    num_classes = len(np.unique(np.concatenate((y_train, y_test))))\n",
    "\n",
    "    y_train_encoded = to_categorical(y_train, num_classes=num_classes)\n",
    "    y_test_encoded = to_categorical(y_test, num_classes=num_classes)\n",
    "\n",
    "    X_train_flattened = X_train.reshape((X_train.shape[0], -1))\n",
    "    X_test_flattened = X_test.reshape((X_test.shape[0], -1))\n",
    "\n",
    "    # Define the model architecture\n",
    "    model = Sequential([\n",
    "        Dense(512, activation='relu', input_shape=(X_train_flattened.shape[1],)),\n",
    "        Dropout(0.5),\n",
    "        Dense(256, activation='relu'),\n",
    "        Dropout(0.5),\n",
    "        Dense(num_classes, activation='softmax')\n",
    "    ])\n",
    "\n",
    "    model.compile(optimizer='adam', loss='categorical_crossentropy', metrics=['accuracy'])\n",
    "\n",
    "    # Define early stopping criteria\n",
    "    early_stopping = EarlyStopping(monitor='val_loss', patience=5, restore_best_weights=True)\n",
    "\n",
    "    # Train the model with early stopping\n",
    "    history = model.fit(X_train_flattened, y_train_encoded, epochs=100, batch_size=64, \n",
    "                        validation_split=0.2, callbacks=[early_stopping], verbose=0)\n",
    "\n",
    "    # Evaluate the model on the test set\n",
    "    test_loss, test_accuracy = model.evaluate(X_test_flattened, y_test_encoded)\n",
    "    print(f'Test accuracy for fold {fold + 1}: {test_accuracy*100:.2f}%')\n",
    "\n",
    "    # Store the test accuracy for this fold\n",
    "    test_accuracies.append(test_accuracy)\n",
    "\n",
    "# Calculate and print the average test accuracy across all folds\n",
    "avg_test_accuracy = np.mean(test_accuracies)\n",
    "print(f'Average test accuracy: {avg_test_accuracy*100:.2f}%')"
   ]
  },
  {
   "cell_type": "code",
   "execution_count": 14,
   "id": "ab7198c6",
   "metadata": {},
   "outputs": [
    {
     "name": "stdout",
     "output_type": "stream",
     "text": [
      "13/13 [==============================] - 0s 2ms/step\n",
      "              precision    recall  f1-score   support\n",
      "\n",
      "     Class 1       0.65      0.65      0.65        23\n",
      "     Class 2       0.63      0.60      0.62        20\n",
      "     Class 3       0.82      0.82      0.82        65\n",
      "     Class 4       0.83      0.89      0.86        44\n",
      "     Class 5       0.83      0.56      0.67        34\n",
      "     Class 6       0.78      0.96      0.86        67\n",
      "     Class 7       0.84      0.70      0.76        23\n",
      "     Class 8       0.79      0.71      0.75        31\n",
      "     Class 9       0.87      0.94      0.90        50\n",
      "    Class 10       0.96      0.90      0.93        50\n",
      "\n",
      "    accuracy                           0.82       407\n",
      "   macro avg       0.80      0.77      0.78       407\n",
      "weighted avg       0.82      0.82      0.81       407\n",
      "\n"
     ]
    }
   ],
   "source": [
    "from sklearn.metrics import classification_report\n",
    "from numpy import argmax, unique\n",
    "import numpy as np\n",
    "\n",
    "\n",
    "predictions = model.predict(X_test_flattened)  # Ensure this matches your reshaped test data variable\n",
    "\n",
    "\n",
    "predictions_int = argmax(predictions, axis=1)\n",
    "\n",
    "\n",
    "y_test_int = argmax(y_test_encoded, axis=1)\n",
    "\n",
    "\n",
    "all_classes = unique(np.concatenate((y_test_int, predictions_int)))\n",
    "\n",
    "\n",
    "target_names = [f'Class {i+1}' for i in all_classes]  \n",
    "\n",
    "\n",
    "report = classification_report(y_test_int, predictions_int, target_names=target_names)\n",
    "\n",
    "print(report)\n"
   ]
  },
  {
   "cell_type": "code",
   "execution_count": 15,
   "id": "8cabecd6",
   "metadata": {},
   "outputs": [
    {
     "name": "stdout",
     "output_type": "stream",
     "text": [
      "Fold 1/10\n",
      "13/13 [==============================] - 0s 1ms/step - loss: 0.6549 - accuracy: 0.7917\n",
      "Test accuracy for fold 1: 79.17%\n",
      "Fold 2/10\n",
      "13/13 [==============================] - 0s 1ms/step - loss: 0.6247 - accuracy: 0.7966\n",
      "Test accuracy for fold 2: 79.66%\n",
      "Fold 3/10\n",
      "13/13 [==============================] - 0s 2ms/step - loss: 0.6739 - accuracy: 0.7789\n",
      "Test accuracy for fold 3: 77.89%\n",
      "Fold 4/10\n",
      "13/13 [==============================] - 0s 1ms/step - loss: 0.6192 - accuracy: 0.7838\n",
      "Test accuracy for fold 4: 78.38%\n",
      "Fold 5/10\n",
      "13/13 [==============================] - 0s 1ms/step - loss: 0.6437 - accuracy: 0.7789\n",
      "Test accuracy for fold 5: 77.89%\n",
      "Fold 6/10\n",
      "13/13 [==============================] - 0s 1ms/step - loss: 0.5883 - accuracy: 0.8108\n",
      "Test accuracy for fold 6: 81.08%\n",
      "Fold 7/10\n",
      "13/13 [==============================] - 0s 1ms/step - loss: 0.5441 - accuracy: 0.8256\n",
      "Test accuracy for fold 7: 82.56%\n",
      "Fold 8/10\n",
      "13/13 [==============================] - 0s 1ms/step - loss: 0.6484 - accuracy: 0.7912\n",
      "Test accuracy for fold 8: 79.12%\n",
      "Fold 9/10\n",
      "13/13 [==============================] - 0s 3ms/step - loss: 0.5663 - accuracy: 0.8059\n",
      "Test accuracy for fold 9: 80.59%\n",
      "Fold 10/10\n",
      "13/13 [==============================] - 0s 1ms/step - loss: 0.5582 - accuracy: 0.8133\n",
      "Test accuracy for fold 10: 81.33%\n",
      "Average test accuracy: 79.76%\n"
     ]
    }
   ],
   "source": [
    "num_folds = 10\n",
    "\n",
    "# Initialize cross-validation\n",
    "skf = StratifiedKFold(n_splits=num_folds, shuffle=True, random_state=42)\n",
    "\n",
    "# Initialize variables to store test accuracies\n",
    "test_accuracies = []\n",
    "\n",
    "# Iterate over each fold\n",
    "for fold, (train_index, test_index) in enumerate(skf.split(Dq, df['encoded_topics'])):\n",
    "    print(f'Fold {fold + 1}/{num_folds}')\n",
    "\n",
    "    # Split data into train and test sets for this fold\n",
    "    X_train, X_test = Dq[train_index], Dq[test_index]\n",
    "    y_train, y_test = df['encoded_topics'].iloc[train_index], df['encoded_topics'].iloc[test_index]\n",
    "\n",
    "    num_classes = len(np.unique(np.concatenate((y_train, y_test))))\n",
    "\n",
    "    y_train_encoded = to_categorical(y_train, num_classes=num_classes)\n",
    "    y_test_encoded = to_categorical(y_test, num_classes=num_classes)\n",
    "\n",
    "    X_train_flattened = X_train.reshape((X_train.shape[0], -1))\n",
    "    X_test_flattened = X_test.reshape((X_test.shape[0], -1))\n",
    "\n",
    "    # Define the model architecture\n",
    "    model = Sequential([\n",
    "        Dense(512, activation='relu', input_shape=(X_train_flattened.shape[1],)),\n",
    "        Dropout(0.5),\n",
    "        Dense(256, activation='relu'),\n",
    "        Dropout(0.5),\n",
    "        Dense(num_classes, activation='softmax')\n",
    "    ])\n",
    "\n",
    "    model.compile(optimizer='adam', loss='categorical_crossentropy', metrics=['accuracy'])\n",
    "\n",
    "    # Define early stopping criteria\n",
    "    early_stopping = EarlyStopping(monitor='val_loss', patience=5, restore_best_weights=True)\n",
    "\n",
    "    # Train the model with early stopping\n",
    "    history = model.fit(X_train_flattened, y_train_encoded, epochs=100, batch_size=64, \n",
    "                        validation_split=0.2, callbacks=[early_stopping], verbose=0)\n",
    "\n",
    "    # Evaluate the model on the test set\n",
    "    test_loss, test_accuracy = model.evaluate(X_test_flattened, y_test_encoded)\n",
    "    print(f'Test accuracy for fold {fold + 1}: {test_accuracy*100:.2f}%')\n",
    "\n",
    "    # Store the test accuracy for this fold\n",
    "    test_accuracies.append(test_accuracy)\n",
    "\n",
    "# Calculate and print the average test accuracy across all folds\n",
    "avg_test_accuracy = np.mean(test_accuracies)\n",
    "print(f'Average test accuracy: {avg_test_accuracy*100:.2f}%')"
   ]
  },
  {
   "cell_type": "code",
   "execution_count": 16,
   "id": "fc52ff09",
   "metadata": {},
   "outputs": [
    {
     "name": "stdout",
     "output_type": "stream",
     "text": [
      "13/13 [==============================] - 0s 1ms/step\n",
      "              precision    recall  f1-score   support\n",
      "\n",
      "     Class 1       0.67      0.61      0.64        23\n",
      "     Class 2       0.50      0.55      0.52        20\n",
      "     Class 3       0.93      0.77      0.84        65\n",
      "     Class 4       0.79      0.95      0.87        44\n",
      "     Class 5       0.79      0.68      0.73        34\n",
      "     Class 6       0.78      0.96      0.86        67\n",
      "     Class 7       0.75      0.65      0.70        23\n",
      "     Class 8       0.79      0.71      0.75        31\n",
      "     Class 9       0.87      0.94      0.90        50\n",
      "    Class 10       0.98      0.86      0.91        50\n",
      "\n",
      "    accuracy                           0.81       407\n",
      "   macro avg       0.78      0.77      0.77       407\n",
      "weighted avg       0.82      0.81      0.81       407\n",
      "\n"
     ]
    }
   ],
   "source": [
    "from sklearn.metrics import classification_report\n",
    "from numpy import argmax, unique\n",
    "import numpy as np\n",
    "\n",
    "\n",
    "predictions = model.predict(X_test_flattened)  # Ensure this matches your reshaped test data variable\n",
    "\n",
    "\n",
    "predictions_int = argmax(predictions, axis=1)\n",
    "\n",
    "\n",
    "y_test_int = argmax(y_test_encoded, axis=1)\n",
    "\n",
    "\n",
    "all_classes = unique(np.concatenate((y_test_int, predictions_int)))\n",
    "\n",
    "\n",
    "target_names = [f'Class {i+1}' for i in all_classes]  \n",
    "\n",
    "\n",
    "report = classification_report(y_test_int, predictions_int, target_names=target_names)\n",
    "\n",
    "print(report)\n"
   ]
  },
  {
   "cell_type": "code",
   "execution_count": null,
   "id": "420d09e6",
   "metadata": {},
   "outputs": [],
   "source": []
  },
  {
   "cell_type": "code",
   "execution_count": null,
   "id": "92579936",
   "metadata": {},
   "outputs": [],
   "source": []
  }
 ],
 "metadata": {
  "kernelspec": {
   "display_name": "Python 3 (ipykernel)",
   "language": "python",
   "name": "python3"
  },
  "language_info": {
   "codemirror_mode": {
    "name": "ipython",
    "version": 3
   },
   "file_extension": ".py",
   "mimetype": "text/x-python",
   "name": "python",
   "nbconvert_exporter": "python",
   "pygments_lexer": "ipython3",
   "version": "3.10.9"
  }
 },
 "nbformat": 4,
 "nbformat_minor": 5
}
